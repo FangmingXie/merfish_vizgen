{
 "cells": [
  {
   "cell_type": "markdown",
   "metadata": {},
   "source": [
    "# Interesting genes from Vizgen MERFISH mouse brain data "
   ]
  },
  {
   "cell_type": "markdown",
   "metadata": {},
   "source": [
    "![](./results/2021-05-01_Slc17a6.png)\n",
    "![](./results/2021-05-01_Slc17a7.png)\n",
    "![](./results/2021-05-01_Slc17a8.png)\n",
    "\n",
    "![](./results/2021-05-01_Lgr5.png)\n",
    "\n",
    "![](./results/2021-05-01_Chat.png)\n",
    "![](./results/2021-05-01_Th.png)\n",
    "![](./results/2021-05-01_Vipr2.png)\n",
    "![](./results/2021-05-01_Glp1r.png)\n",
    "![](./results/2021-05-01_Glp2r.png)\n",
    "![](./results/2021-05-01_Dgkk.png)\n",
    "![](./results/2021-05-01_Npy2r.png)\n",
    "![](./results/2021-05-01_Pth2r.png)\n",
    "![](./results/2021-05-01_Ret.png)\n",
    "\n",
    "![](./results/2021-05-01_Efemp1.png)\n",
    "![](./results/2021-05-01_Hcar1.png)\n",
    "![](./results/2021-05-01_Mrgprf.png)\n",
    "![](./results/2021-05-01_Aqp4.png)\n",
    "![](./results/2021-05-01_Gfap.png)\n",
    "\n",
    "![](./results/2021-05-01_Ghsr.png)\n",
    "![](./results/2021-05-01_Nmbr.png)\n",
    "![](./results/2021-05-01_Nmur2.png)\n",
    "![](./results/2021-05-01_Ackr2.png)\n",
    "![](./results/2021-05-01_Erbb3.png)\n",
    "![](./results/2021-05-01_Gjc3.png)\n",
    "![](./results/2021-05-01_Adgrd1.png)\n",
    "![](./results/2021-05-01_Adra1d.png)\n",
    "\n",
    "![](./results/2021-05-01_Chrm1.png)\n",
    "![](./results/2021-05-01_Chrm2.png)\n",
    "![](./results/2021-05-01_Chrm5.png)\n",
    "\n",
    "![](./results/2021-05-01_Drd1.png)\n",
    "![](./results/2021-05-01_Drd2.png)\n",
    "![](./results/2021-05-01_Drd5.png)\n",
    "\n",
    "![](./results/2021-05-01_Gad1.png)\n",
    "\n",
    "![](./results/2021-05-01_Celsr1.png)\n",
    "![](./results/2021-05-01_Gpr101.png)\n",
    "![](./results/2021-05-01_Gpr139.png)\n",
    "![](./results/2021-05-01_Gpr161.png)\n",
    "![](./results/2021-05-01_Gpr88.png)\n",
    "\n",
    "![](./results/2021-05-01_Htr1f.png)\n",
    "![](./results/2021-05-01_Mas1.png)\n",
    "![](./results/2021-05-01_Met.png)"
   ]
  }
 ],
 "metadata": {
  "kernelspec": {
   "display_name": "Python 3",
   "language": "python",
   "name": "python3"
  },
  "language_info": {
   "codemirror_mode": {
    "name": "ipython",
    "version": 3
   },
   "file_extension": ".py",
   "mimetype": "text/x-python",
   "name": "python",
   "nbconvert_exporter": "python",
   "pygments_lexer": "ipython3",
   "version": "3.8.1"
  }
 },
 "nbformat": 4,
 "nbformat_minor": 4
}
